{
 "cells": [
  {
   "cell_type": "markdown",
   "metadata": {},
   "source": [
    "# Digital Image Processing\n"
   ]
  },
  {
   "cell_type": "markdown",
   "metadata": {},
   "source": [
    "## Assignment 0\n",
    "\n",
    "\n",
    "Arghya Roy (2021115008)"
   ]
  },
  {
   "cell_type": "markdown",
   "metadata": {},
   "source": [
    "imports"
   ]
  },
  {
   "cell_type": "code",
   "execution_count": 2,
   "metadata": {},
   "outputs": [],
   "source": [
    "import numpy as np\n",
    "import cv2\n",
    "import matplotlib.pyplot as plt\n",
    "from collections import Counter\n"
   ]
  },
  {
   "cell_type": "markdown",
   "metadata": {},
   "source": [
    "### 1. Read an image file into an array\n"
   ]
  },
  {
   "cell_type": "code",
   "execution_count": 3,
   "metadata": {},
   "outputs": [
    {
     "data": {
      "text/plain": [
       "((1000, 1500, 3), (1333, 2000))"
      ]
     },
     "execution_count": 3,
     "metadata": {},
     "output_type": "execute_result"
    }
   ],
   "source": [
    "col_img = cv2.imread(\"../media/inputs/color-image.jpeg\", cv2.IMREAD_COLOR)\n",
    "gray_img = cv2.imread(\"../media/inputs/grayscale-image.jpg\", cv2.IMREAD_GRAYSCALE)\n",
    "\n",
    "col_img.shape, gray_img.shape"
   ]
  },
  {
   "cell_type": "markdown",
   "metadata": {},
   "source": [
    "### 2. Write an array into an image file\n",
    "Note: Make sure you can handle color and grayscale images\n"
   ]
  },
  {
   "cell_type": "code",
   "execution_count": 4,
   "metadata": {},
   "outputs": [
    {
     "data": {
      "text/plain": [
       "True"
      ]
     },
     "execution_count": 4,
     "metadata": {},
     "output_type": "execute_result"
    }
   ],
   "source": [
    "cv2.imwrite(\"../media/outputs/array-to-image/grayscale-image.jpg\", gray_img)\n",
    "cv2.imwrite(\"../media/outputs/array-to-image/color-image.jpg\", col_img)"
   ]
  },
  {
   "cell_type": "markdown",
   "metadata": {},
   "source": [
    "### 3. Change brightness of the image.\n"
   ]
  },
  {
   "cell_type": "code",
   "execution_count": 28,
   "metadata": {},
   "outputs": [
    {
     "data": {
      "text/plain": [
       "True"
      ]
     },
     "execution_count": 28,
     "metadata": {},
     "output_type": "execute_result"
    }
   ],
   "source": [
    "def modify_brightness(img, k):\n",
    "    # if coloured==True:\n",
    "    #     for i in range(img.shape[0]):\n",
    "    #         for j in range(img.shape[1]):\n",
    "    #             for c in range(img.shape[2]):\n",
    "    #                 img[i][j][c] = min(255, img[i][j][c] * k)\n",
    "    # else:\n",
    "    #     for i in range(img.shape[0]):\n",
    "    #         for j in range(img.shape[1]):\n",
    "    #             img[i][j] = min(255, img[i][j] * k)\n",
    "\n",
    "    # img = np.minimum(255, img * k).astype(np.uint8)\n",
    "\n",
    "    img = img.astype(np.float32) + k\n",
    "    np.clip(img, 0, 255, out=img)\n",
    "    img = img.astype(np.uint8)\n",
    "\n",
    "    return img\n",
    "\n",
    "\n",
    "gray_img_bright = modify_brightness(gray_img.copy(), 20)\n",
    "col_img_bright = modify_brightness(col_img.copy(), 20)\n",
    "gray_img_dark = modify_brightness(gray_img.copy(), -20)\n",
    "col_img_dark = modify_brightness(col_img.copy(), -20)\n",
    "cv2.imwrite(\"../media/outputs/brightness/grayscale-image-brighter.jpg\", gray_img_bright)\n",
    "cv2.imwrite(\"../media/outputs/brightness/color-image-brighter.jpg\", col_img_bright)\n",
    "cv2.imwrite(\"../media/outputs/brightness/grayscale-image-darker.jpg\", gray_img_dark)\n",
    "cv2.imwrite(\"../media/outputs/brightness/color-image-darker.jpg\", col_img_dark)"
   ]
  },
  {
   "cell_type": "markdown",
   "metadata": {},
   "source": [
    "### 4. Change contrast of the image"
   ]
  },
  {
   "cell_type": "code",
   "execution_count": 20,
   "metadata": {},
   "outputs": [
    {
     "data": {
      "text/plain": [
       "True"
      ]
     },
     "execution_count": 20,
     "metadata": {},
     "output_type": "execute_result"
    }
   ],
   "source": [
    "def stretch_contrast(img, percentile, coloured):\n",
    "    # img_low = np_img.min()\n",
    "    # img_high = np_img.max()\n",
    "    # img_max = 255\n",
    "    # img_min = 0\n",
    "    # if coloured==True:\n",
    "    #     for i in range(img.shape[0]):\n",
    "    #         for j in range(img.shape[1]):\n",
    "    #             for c in range(img.shape[2]):\n",
    "    #                 img[i][j][c] = img_min+(img[i][j][c]-img_low)*(img_max-img_min)/(img_high-img_low)\n",
    "    #                 # img[i][j][c] = min(255, max(0, (img[i][j][c] - 100) * 255 / 155))\n",
    "    # else:\n",
    "    #     for i in range(img.shape[0]):\n",
    "    #         for j in range(img.shape[1]):\n",
    "    #             img[i][j] = min(255, max(0, (img[i][j] - 100) * 255 / 155))\n",
    "\n",
    "    img = np.clip((img - np.percentile(img, percentile)) * 255 / (np.percentile(img, 100 - percentile) - np.percentile(img, percentile)), 0, 255).astype(np.uint8)\n",
    "\n",
    "    return img\n",
    "\n",
    "gray_img_contrast = stretch_contrast(gray_img.copy(), 5, False)\n",
    "col_img_contrast = stretch_contrast(col_img.copy(), 10, True)\n",
    "\n",
    "cv2.imwrite(\"../media/outputs/contrast/grayscale-image-contrast.jpg\", gray_img_contrast)\n",
    "cv2.imwrite(\"../media/outputs/contrast/color-image-contrast.jpg\", col_img_contrast)"
   ]
  },
  {
   "cell_type": "markdown",
   "metadata": {},
   "source": [
    "### 5. Change a colour image to grayscale.\n",
    "Are there different ways of doing this? What is the visual effect of each?\n"
   ]
  },
  {
   "cell_type": "markdown",
   "metadata": {},
   "source": [
    "a) $\\text{Grayscale} = \\alpha \\times R + \\beta \\times G + \\gamma \\times B $\n"
   ]
  },
  {
   "cell_type": "code",
   "execution_count": 7,
   "metadata": {},
   "outputs": [
    {
     "data": {
      "text/plain": [
       "True"
      ]
     },
     "execution_count": 7,
     "metadata": {},
     "output_type": "execute_result"
    }
   ],
   "source": [
    "def make_grayscale(img, alpha, beta, gamma):\n",
    "    # for i in range(img.shape[0]):\n",
    "    #     for j in range(img.shape[1]):\n",
    "    #         img[i][j] = alpha * img[i][j][0] + beta * img[i][j][1] + gamma * img[i][j][2]\n",
    "\n",
    "    grayimg = np.dot(img[..., :3], np.array([alpha, beta, gamma]))\n",
    "    grayimg = np.clip(grayimg, 0, 255).astype(np.uint8)\n",
    "    return grayimg\n",
    "\n",
    "\n",
    "color_img_gray = make_grayscale(col_img.copy(), 0.3, 0.6, 0.1)\n",
    "cv2.imwrite(\"../media/outputs/grayscale/color-image-to-grayscale.jpg\", color_img_gray)"
   ]
  },
  {
   "cell_type": "markdown",
   "metadata": {},
   "source": [
    "b) $\\text{Grayscale} = \\frac{R + G + B}{3}$"
   ]
  },
  {
   "cell_type": "code",
   "execution_count": 8,
   "metadata": {},
   "outputs": [
    {
     "data": {
      "text/plain": [
       "True"
      ]
     },
     "execution_count": 8,
     "metadata": {},
     "output_type": "execute_result"
    }
   ],
   "source": [
    "def make_grayscale2(img):\n",
    "    # grayimg=[]\n",
    "    # for i in range(img.shape[0]):\n",
    "    #     grayimg.append([])\n",
    "    #     for j in range(img.shape[1]):\n",
    "    #         grayimg[i].append(np.mean(img[i][j]))\n",
    "    # return np.array(grayimg)\n",
    "    img = np.mean(img, axis=-1).astype(np.uint8)\n",
    "    return img\n",
    "\n",
    "\n",
    "color_img_gray2 = make_grayscale2(col_img.copy())\n",
    "cv2.imwrite(\"../media/outputs/grayscale/color-image-to-grayscale2.jpg\", color_img_gray2)"
   ]
  },
  {
   "cell_type": "markdown",
   "metadata": {},
   "source": [
    "### 6. Convert a grayscale image to color using a pseudo color mapping.\n"
   ]
  },
  {
   "cell_type": "code",
   "execution_count": 10,
   "metadata": {},
   "outputs": [
    {
     "data": {
      "text/plain": [
       "True"
      ]
     },
     "execution_count": 10,
     "metadata": {},
     "output_type": "execute_result"
    }
   ],
   "source": [
    "def pseudo_color_mapping(gray_img):\n",
    "    col_img = np.zeros((gray_img.shape[0], gray_img.shape[1], 3), dtype=np.uint8)\n",
    "    # for i in range(gray_img.shape[0]):\n",
    "    #     for j in range(gray_img.shape[1]):\n",
    "    #         # norm=gray_img[i][j]/255\n",
    "    #         # np.random.seed(gray_img[i][j])\n",
    "    #         # col_img[i][j]=np.array([255*(1-norm),255*np.random.rand(),  255*norm])\n",
    "    #         if gray_img[i][j] < 128:\n",
    "    #             col_img[i][j]= np.array([255*np.random.rand(), gray_img[i][j] * 2, 255 - gray_img[i][j] * 2])\n",
    "    #         else:\n",
    "    #             col_img[i][j]= np.array([gray_img[i][j], 255 - gray_img[i][j], 255*np.random.rand()])\n",
    "\n",
    "    # mask = gray_img < 128\n",
    "    # col_img[mask] = np.array(\n",
    "    #     [255 * np.random.rand(), gray_img[mask] * 2, 255 - gray_img[mask] * 2]\n",
    "    # ).T.astype(np.uint8)\n",
    "    # col_img[~mask] = np.array(\n",
    "    #     [gray_img[~mask], 255 - gray_img[~mask], 255 * np.random.rand()]\n",
    "    # ).T.astype(np.uint8)\n",
    "\n",
    "    mask = gray_img < 128\n",
    "\n",
    "    rand_vals = np.random.rand(gray_img.shape[0], gray_img.shape[1])\n",
    "\n",
    "    color1 = np.zeros_like(gray_img, dtype=np.uint8)\n",
    "    color2 = np.zeros_like(gray_img, dtype=np.uint8)\n",
    "    color3 = np.zeros_like(gray_img, dtype=np.uint8)\n",
    "\n",
    "    color1[mask] = (255 * rand_vals[mask]).astype(np.uint8)\n",
    "    color2[mask] = (gray_img[mask] * 2).astype(np.uint8)\n",
    "    color3[mask] = (255 - gray_img[mask] * 2).astype(np.uint8)\n",
    "\n",
    "    color1[~mask] = gray_img[~mask].astype(np.uint8)\n",
    "    color2[~mask] = (255 - gray_img[~mask]).astype(np.uint8)\n",
    "    color3[~mask] = (255 * rand_vals[~mask]).astype(np.uint8)\n",
    "\n",
    "    col_img[..., 0] = color1\n",
    "    col_img[..., 1] = color2\n",
    "    col_img[..., 2] = color3\n",
    "\n",
    "    return col_img\n",
    "\n",
    "\n",
    "colored_gray_img = pseudo_color_mapping(gray_img.copy())\n",
    "cv2.imwrite(\"../media/outputs/grayscale-to-color/grayscale-to-color.jpg\", colored_gray_img)"
   ]
  },
  {
   "cell_type": "markdown",
   "metadata": {},
   "source": [
    "### 7. Read in an image with green screen for background and a second one for background. The function should replace the green screen with the corresponding pixels from the background image.\n"
   ]
  },
  {
   "cell_type": "code",
   "execution_count": 11,
   "metadata": {},
   "outputs": [
    {
     "data": {
      "text/plain": [
       "True"
      ]
     },
     "execution_count": 11,
     "metadata": {},
     "output_type": "execute_result"
    }
   ],
   "source": [
    "background = cv2.imread(\"../media/inputs/background-image.jpg\", cv2.IMREAD_COLOR)\n",
    "foreground = cv2.imread(\"../media/inputs/green-screen-image.jpg\", cv2.IMREAD_COLOR)\n",
    "\n",
    "# def green_screen(background, foreground):\n",
    "#     for i in range(foreground.shape[0]):\n",
    "#         for j in range(foreground.shape[1]):\n",
    "#             if foreground[i][j] != np.array([1, 255, 0]):\n",
    "#                 background[i][j] = foreground[i][j]\n",
    "#     return background\n",
    "\n",
    "\n",
    "def most_frequent_color(image):\n",
    "    pixels = image.reshape(-1, 3)\n",
    "    rgbs = [tuple(pixel) for pixel in pixels]\n",
    "    rgb_counts = Counter(rgbs)\n",
    "    most_freq_rgb, _ = rgb_counts.most_common(1)[0]\n",
    "    return np.array(most_freq_rgb)\n",
    "\n",
    "def rgb_to_range(color, tolerance=50):\n",
    "    lower_bound = np.clip(color - tolerance, 0, 255)\n",
    "    upper_bound = np.clip(color + tolerance, 0, 255)\n",
    "    # lower_bound = color - tolerance\n",
    "    # upper_bound = color + tolerance\n",
    "    return lower_bound, upper_bound\n",
    "\n",
    "def green_screen(background, foreground):\n",
    "    green_screen_color = most_frequent_color(foreground)\n",
    "\n",
    "    tolerance = 110    \n",
    "    lower_bound, upper_bound = rgb_to_range(green_screen_color.astype(int), tolerance)    \n",
    "    mask = np.all((foreground >= lower_bound) & (foreground <= upper_bound), axis=-1)\n",
    "    # cv2.imwrite(\"mask.png\", (mask * 255).astype(np.uint8))\n",
    "\n",
    "    background[~mask] = foreground[~mask]\n",
    "    \n",
    "    return background\n",
    "\n",
    "\n",
    "new_img = green_screen(background.copy(), foreground.copy())\n",
    "cv2.imwrite(\"../media/outputs/green-screen/green-screen-image.jpg\", new_img)"
   ]
  },
  {
   "cell_type": "markdown",
   "metadata": {},
   "source": [
    "### 8. Read a video file and convert into an sequence (array) of images, and also to write it back as a video."
   ]
  },
  {
   "cell_type": "code",
   "execution_count": 12,
   "metadata": {},
   "outputs": [],
   "source": [
    "def video_to_frames(video):\n",
    "    frames = []\n",
    "    while True:\n",
    "        ret, frame = video.read()\n",
    "        if not ret:\n",
    "            break\n",
    "        frames.append(frame)\n",
    "    video.release()\n",
    "    return np.array(frames)\n",
    "\n",
    "\n",
    "def frames_to_video(frames, output_path, fps=30.0):\n",
    "    height, width = frames[0].shape[:2]\n",
    "    fourcc = cv2.VideoWriter_fourcc(*\"mp4v\")\n",
    "    out = cv2.VideoWriter(output_path, fourcc, fps, (width, height))\n",
    "    for frame in frames:\n",
    "        out.write(frame)\n",
    "    out.release()\n",
    "\n",
    "\n",
    "input_video = cv2.VideoCapture(\"../media/inputs/video.mp4\")\n",
    "frames_array = video_to_frames(input_video)\n",
    "\n",
    "\n",
    "output_video_path = \"../media/outputs/video-frames/video.mp4\"\n",
    "frames_to_video(frames_array, output_video_path, 15)"
   ]
  },
  {
   "cell_type": "markdown",
   "metadata": {},
   "source": [
    "### 9. Create a 1 second transition video (fade, slide, any other) from one image to another\n"
   ]
  },
  {
   "cell_type": "code",
   "execution_count": 13,
   "metadata": {},
   "outputs": [],
   "source": [
    "\n",
    "def create_transition(transition_from, transition_to, num_frames, fps, transition_video):\n",
    "    height, width, _ = transition_from.shape\n",
    "    fourcc = cv2.VideoWriter_fourcc(*'mp4v')\n",
    "    video_writer = cv2.VideoWriter(transition_video, fourcc, fps, (width, height))\n",
    "\n",
    "    for i in range(num_frames + 1):\n",
    "        t = i / num_frames\n",
    "        blend = (1 - t) * transition_from + t * transition_to\n",
    "        blend = np.clip(blend, 0, 255).astype(np.uint8)\n",
    "        video_writer.write(blend)\n",
    "    video_writer.release()\n",
    "\n",
    "\n",
    "transition_from = cv2.imread(\"../media/inputs/transition-from.jpg\", cv2.IMREAD_COLOR)\n",
    "transition_to = cv2.imread(\"../media/inputs/transition-to.jpg\", cv2.IMREAD_COLOR)\n",
    "\n",
    "fps = 30\n",
    "num_frames = 30\n",
    "transition_video = '../media/outputs/transition/transition.mp4'\n",
    "\n",
    "create_transition(transition_from, transition_to, num_frames, fps, transition_video)"
   ]
  },
  {
   "cell_type": "markdown",
   "metadata": {},
   "source": [
    "---"
   ]
  }
 ],
 "metadata": {
  "kernelspec": {
   "display_name": "Python 3",
   "language": "python",
   "name": "python3"
  },
  "language_info": {
   "codemirror_mode": {
    "name": "ipython",
    "version": 3
   },
   "file_extension": ".py",
   "mimetype": "text/x-python",
   "name": "python",
   "nbconvert_exporter": "python",
   "pygments_lexer": "ipython3",
   "version": "3.10.11"
  }
 },
 "nbformat": 4,
 "nbformat_minor": 2
}
